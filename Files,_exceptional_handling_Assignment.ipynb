{
  "cells": [
    {
      "cell_type": "markdown",
      "source": [
        "# **ASSIGNMENT - Files, exceptional handling,logging and memory management**"
      ],
      "metadata": {
        "id": "mbboeFvnjcaB"
      },
      "id": "mbboeFvnjcaB"
    },
    {
      "cell_type": "markdown",
      "id": "256da451",
      "metadata": {
        "id": "256da451"
      },
      "source": [
        "# Answers to Questions on Files, Exceptional Handling, Logging, and Memory Management"
      ]
    },
    {
      "cell_type": "markdown",
      "id": "b8c542f7",
      "metadata": {
        "id": "b8c542f7"
      },
      "source": [
        "### 1. What is the difference between interpreted and compiled languages?\n",
        "\n",
        "Ans -\n",
        "- **Interpreted languages** (e.g., Python): Code is executed line-by-line by an interpreter, making it easier to debug but slower in execution.\n",
        "- **Compiled languages** (e.g., C++): Code is transformed into machine code by a compiler, offering faster execution but slower debugging."
      ]
    },
    {
      "cell_type": "markdown",
      "id": "298fdc7d",
      "metadata": {
        "id": "298fdc7d"
      },
      "source": [
        "### 2. What is exception handling in Python?\n",
        "\n",
        "Ans - A mechanism to handle runtime errors, allowing the program to continue executing instead of crashing. It uses constructs like `try`, `except`, and `finally`."
      ]
    },
    {
      "cell_type": "markdown",
      "id": "108d9242",
      "metadata": {
        "id": "108d9242"
      },
      "source": [
        "### 3. What is the purpose of the finally block in exception handling?\n",
        "\n",
        "Ans - The `finally` block executes code that must run regardless of whether an exception occurred, often used for cleanup (e.g., closing files)."
      ]
    },
    {
      "cell_type": "markdown",
      "id": "15fcc889",
      "metadata": {
        "id": "15fcc889"
      },
      "source": [
        "### 4. What is logging in Python?\n",
        "\n",
        "Ans - Logging provides a way to track events in a program during execution. It is used to debug, monitor, or store execution details for analysis."
      ]
    },
    {
      "cell_type": "markdown",
      "id": "9c7c1c2e",
      "metadata": {
        "id": "9c7c1c2e"
      },
      "source": [
        "### 5. What is the significance of the __del__ method in Python?\n",
        "\n",
        "Ans - The `__del__` method is a destructor method called when an object is deleted. It’s used for cleanup actions like closing file handles."
      ]
    },
    {
      "cell_type": "markdown",
      "id": "aff6743d",
      "metadata": {
        "id": "aff6743d"
      },
      "source": [
        "### 6. What is the difference between import and from ... import in Python?\n",
        "\n",
        "Ans -\n",
        "- `import`: Imports the entire module (e.g., `import math`).\n",
        "- `from ... import`: Imports specific elements (e.g., `from math import sqrt`)."
      ]
    },
    {
      "cell_type": "markdown",
      "id": "55e4961d",
      "metadata": {
        "id": "55e4961d"
      },
      "source": [
        "### 7. How can you handle multiple exceptions in Python?\n",
        "\n",
        "Ans -\n",
        "- Use multiple `except` blocks:\n",
        "  ```python\n",
        "  try:\n",
        "      ...\n",
        "  except ValueError:\n",
        "      ...\n",
        "  except KeyError:\n",
        "      ...\n",
        "  ```\n",
        "- Or combine exceptions:\n",
        "  ```python\n",
        "  except (ValueError, KeyError) as e:\n",
        "      ...\n",
        "  ```"
      ]
    },
    {
      "cell_type": "markdown",
      "id": "d06ab694",
      "metadata": {
        "id": "d06ab694"
      },
      "source": [
        "### 8. What is the purpose of the with statement when handling files in Python?\n",
        "\n",
        "Ans - The `with` statement ensures files are properly closed after their block is executed, even if an error occurs."
      ]
    },
    {
      "cell_type": "markdown",
      "id": "c99ca839",
      "metadata": {
        "id": "c99ca839"
      },
      "source": [
        "### 9. What is the difference between multithreading and multiprocessing?\n",
        "\n",
        "Ans -\n",
        "- **Multithreading**: Multiple threads run in the same process; better for I/O-bound tasks.\n",
        "- **Multiprocessing**: Multiple processes with separate memory; better for CPU-bound tasks."
      ]
    },
    {
      "cell_type": "markdown",
      "id": "9312f7df",
      "metadata": {
        "id": "9312f7df"
      },
      "source": [
        "### 10. What are the advantages of using logging in a program?\n",
        "\n",
        "Ans -\n",
        "- Debugging made easy.\n",
        "- Tracks errors and execution flow.\n",
        "- Keeps a record for future analysis."
      ]
    },
    {
      "cell_type": "markdown",
      "id": "e348efb7",
      "metadata": {
        "id": "e348efb7"
      },
      "source": [
        "### 11. What is memory management in Python?\n",
        "\n",
        "\n",
        "Ans - Python’s memory management is handled by the interpreter, using techniques like reference counting and garbage collection to manage objects."
      ]
    },
    {
      "cell_type": "markdown",
      "id": "624aba2c",
      "metadata": {
        "id": "624aba2c"
      },
      "source": [
        "### 12. What are the basic steps involved in exception handling in Python?\n",
        "\n",
        "Ans -\n",
        "- **Try**: Enclose the code block where an error might occur.\n",
        "- **Except**: Handle the exception.\n",
        "- **Finally** (optional): Execute cleanup code."
      ]
    },
    {
      "cell_type": "markdown",
      "id": "047a6095",
      "metadata": {
        "id": "047a6095"
      },
      "source": [
        "### 13. Why is memory management important in Python?\n",
        "\n",
        "Ans - Efficient memory usage prevents slowdowns and crashes, especially in large applications."
      ]
    },
    {
      "cell_type": "markdown",
      "id": "94d624d7",
      "metadata": {
        "id": "94d624d7"
      },
      "source": [
        "### 14. What is the role of try and except in exception handling?\n",
        "\n",
        "Ans -\n",
        "- `try`: Contains code that may throw an exception.\n",
        "- `except`: Defines how to handle specific exceptions."
      ]
    },
    {
      "cell_type": "markdown",
      "id": "fc36138e",
      "metadata": {
        "id": "fc36138e"
      },
      "source": [
        "### 15. How does Python's garbage collection system work?\n",
        "\n",
        "Ans - Python uses **reference counting** and a **cyclic garbage collector** to reclaim unused memory."
      ]
    },
    {
      "cell_type": "markdown",
      "id": "9ada00c6",
      "metadata": {
        "id": "9ada00c6"
      },
      "source": [
        "### 16. What is the purpose of the else block in exception handling?\n",
        "\n",
        "Ans - Runs code if no exception occurs in the `try` block."
      ]
    },
    {
      "cell_type": "markdown",
      "id": "d41740f5",
      "metadata": {
        "id": "d41740f5"
      },
      "source": [
        "### 17. What are the common logging levels in Python?\n",
        "\n",
        "Ans - **DEBUG**, **INFO**, **WARNING**, **ERROR**, **CRITICAL**."
      ]
    },
    {
      "cell_type": "markdown",
      "id": "6abe56aa",
      "metadata": {
        "id": "6abe56aa"
      },
      "source": [
        "### 18. What is the difference between os.fork() and multiprocessing in Python?\n",
        "\n",
        "Ans -\n",
        "- `os.fork()`: Low-level process creation, Unix-specific.\n",
        "- `multiprocessing`: High-level, platform-independent process management module."
      ]
    },
    {
      "cell_type": "markdown",
      "id": "21c18471",
      "metadata": {
        "id": "21c18471"
      },
      "source": [
        "### 19. What is the importance of closing a file in Python?\n",
        "\n",
        "Ans - Ensures data is saved and resources are freed."
      ]
    },
    {
      "cell_type": "markdown",
      "id": "a2cce7ec",
      "metadata": {
        "id": "a2cce7ec"
      },
      "source": [
        "### 20. What is the difference between file.read() and file.readline() in Python?\n",
        "\n",
        "Ans -\n",
        "- `file.read()`: Reads the entire file.\n",
        "- `file.readline()`: Reads one line at a time."
      ]
    },
    {
      "cell_type": "markdown",
      "id": "a72e75f0",
      "metadata": {
        "id": "a72e75f0"
      },
      "source": [
        "### 21. What is the logging module in Python used for?\n",
        "\n",
        "Ans - The `logging` module tracks and records messages or errors during program execution."
      ]
    },
    {
      "cell_type": "markdown",
      "id": "c985623b",
      "metadata": {
        "id": "c985623b"
      },
      "source": [
        "### 22. What is the os module in Python used for in file handling?\n",
        "\n",
        "Ans - Handles file operations like renaming, deleting, and checking file existence."
      ]
    },
    {
      "cell_type": "markdown",
      "id": "39d98b0e",
      "metadata": {
        "id": "39d98b0e"
      },
      "source": [
        "### 23. What are the challenges associated with memory management in Python?\n",
        "\n",
        "Ans -\n",
        "- Cyclic references.\n",
        "- Memory leaks from improper resource handling."
      ]
    },
    {
      "cell_type": "markdown",
      "id": "2d6b3491",
      "metadata": {
        "id": "2d6b3491"
      },
      "source": [
        "### 24. How do you raise an exception manually in Python?\n",
        "\n",
        "Ans - Use the `raise` statement:\n",
        "  ```python\n",
        "  raise ValueError('Custom error message')\n",
        "  ```"
      ]
    },
    {
      "cell_type": "markdown",
      "id": "8946c0a8",
      "metadata": {
        "id": "8946c0a8"
      },
      "source": [
        "### 25. Why is it important to use multithreading in certain applications?\n",
        "\n",
        "Ans - Multithreading improves performance for I/O-bound tasks and enhances responsiveness in GUI applications."
      ]
    },
    {
      "cell_type": "markdown",
      "source": [
        "# **Practical Questions**"
      ],
      "metadata": {
        "id": "k8z_jfuk33_0"
      },
      "id": "k8z_jfuk33_0"
    },
    {
      "cell_type": "markdown",
      "source": [
        "#1. How can you open a file for writing in Python and write a string to it?\n"
      ],
      "metadata": {
        "id": "PsMH_2gKDRU1"
      },
      "id": "PsMH_2gKDRU1"
    },
    {
      "cell_type": "code",
      "source": [
        "with open('example.txt', 'w') as file:\n",
        "\n",
        "    file.write('Tennis is my fav sport')\n",
        "\n",
        "print(\"Tennis is my everything.\")\n"
      ],
      "metadata": {
        "colab": {
          "base_uri": "https://localhost:8080/"
        },
        "id": "4Ua14iQOjYnx",
        "outputId": "2d7f1b41-3943-4ce0-a2ca-6fad30b05c7f"
      },
      "id": "4Ua14iQOjYnx",
      "execution_count": 2,
      "outputs": [
        {
          "output_type": "stream",
          "name": "stdout",
          "text": [
            "Tennis is my everything.\n"
          ]
        }
      ]
    },
    {
      "cell_type": "markdown",
      "source": [
        "#2. Write a Python program to read the contents of a file and print each line.\n",
        "\n"
      ],
      "metadata": {
        "id": "ssJwWkN0PGV8"
      },
      "id": "ssJwWkN0PGV8"
    },
    {
      "cell_type": "code",
      "source": [
        "# Open the file in read mode\n",
        "with open('example.txt', 'r') as file:\n",
        "\n",
        "    for line in file:\n",
        "        print(line.strip())"
      ],
      "metadata": {
        "colab": {
          "base_uri": "https://localhost:8080/"
        },
        "id": "xVwppSCkDsSo",
        "outputId": "8587964d-16d1-43c7-fdd5-5ec714c17301"
      },
      "id": "xVwppSCkDsSo",
      "execution_count": 3,
      "outputs": [
        {
          "output_type": "stream",
          "name": "stdout",
          "text": [
            "Tennis is my fav sport\n"
          ]
        }
      ]
    },
    {
      "cell_type": "markdown",
      "source": [
        "#3. How would you handle a case where the file doesn't exist while trying to open it for reading?"
      ],
      "metadata": {
        "id": "sjIz0o-KPZwf"
      },
      "id": "sjIz0o-KPZwf"
    },
    {
      "cell_type": "code",
      "source": [
        "try:\n",
        "    with open('new_example.txt', 'r') as file:\n",
        "        content = file.read()\n",
        "        print(content)\n",
        "except FileNotFoundError:\n",
        "    print(\"Error: The file does not exist.\")"
      ],
      "metadata": {
        "colab": {
          "base_uri": "https://localhost:8080/"
        },
        "id": "mM2LxNFWPPfI",
        "outputId": "d04971fc-58d0-4c6f-813a-97804807c3b9"
      },
      "id": "mM2LxNFWPPfI",
      "execution_count": 5,
      "outputs": [
        {
          "output_type": "stream",
          "name": "stdout",
          "text": [
            "Error: The file does not exist.\n"
          ]
        }
      ]
    },
    {
      "cell_type": "markdown",
      "source": [
        "#4. Write a Python script that reads from one file and writes its content to another file."
      ],
      "metadata": {
        "id": "X2n563k9Pt5y"
      },
      "id": "X2n563k9Pt5y"
    },
    {
      "cell_type": "code",
      "source": [
        "with open('example.txt', 'r') as source, open('destination.txt', 'w') as destination:\n",
        "    for line in source:\n",
        "        destination.write(line)\n",
        "\n",
        "print(\"Content copied successfully.\")"
      ],
      "metadata": {
        "colab": {
          "base_uri": "https://localhost:8080/"
        },
        "id": "ZSL0EJY-P6JF",
        "outputId": "92aa4316-fc0c-40c4-eea9-9eb4b8659a70"
      },
      "id": "ZSL0EJY-P6JF",
      "execution_count": 11,
      "outputs": [
        {
          "output_type": "stream",
          "name": "stdout",
          "text": [
            "Content copied successfully.\n"
          ]
        }
      ]
    },
    {
      "cell_type": "markdown",
      "source": [
        "#5. How would you catch and handle a division by zero error in Python?"
      ],
      "metadata": {
        "id": "6zo5PPQjQN1h"
      },
      "id": "6zo5PPQjQN1h"
    },
    {
      "cell_type": "code",
      "source": [
        "try:\n",
        "    result = 10 / 0\n",
        "except ZeroDivisionError:\n",
        "    print(\"Error: Division by zero is not allowed.\")"
      ],
      "metadata": {
        "colab": {
          "base_uri": "https://localhost:8080/"
        },
        "id": "7uE1Y4g3P7R-",
        "outputId": "2fcc99da-664a-4d25-8077-7c50826bb0c5"
      },
      "id": "7uE1Y4g3P7R-",
      "execution_count": 12,
      "outputs": [
        {
          "output_type": "stream",
          "name": "stdout",
          "text": [
            "Error: Division by zero is not allowed.\n"
          ]
        }
      ]
    },
    {
      "cell_type": "markdown",
      "source": [
        "#6. Write a Python program that logs an error message to a log file when a division by zero exception occurs."
      ],
      "metadata": {
        "id": "slXv3KeERy5K"
      },
      "id": "slXv3KeERy5K"
    },
    {
      "cell_type": "code",
      "source": [
        "import logging\n",
        "\n",
        "logging.basicConfig(filename='error.log', level=logging.ERROR)\n",
        "\n",
        "try:\n",
        "    result = 10 / 0\n",
        "except ZeroDivisionError:\n",
        "    logging.error(\"Division by zero error occurred.\")"
      ],
      "metadata": {
        "colab": {
          "base_uri": "https://localhost:8080/"
        },
        "id": "KfzyglZ2Ru3k",
        "outputId": "094d320b-bdaa-4cfc-d814-f66a69479a13"
      },
      "id": "KfzyglZ2Ru3k",
      "execution_count": 14,
      "outputs": [
        {
          "output_type": "stream",
          "name": "stderr",
          "text": [
            "ERROR:root:Division by zero error occurred.\n"
          ]
        }
      ]
    },
    {
      "cell_type": "markdown",
      "source": [
        "#7. How do you log information at different levels (INFO, ERROR, WARNING) in Python using the logging module?"
      ],
      "metadata": {
        "id": "vofkPZEVSCoG"
      },
      "id": "vofkPZEVSCoG"
    },
    {
      "cell_type": "code",
      "source": [
        "import logging\n",
        "\n",
        "logging.basicConfig(filename='app.log', level=logging.DEBUG)\n",
        "\n",
        "logging.info(\"This is an informational message.\")\n",
        "logging.warning(\"This is a warning message.\")\n",
        "logging.error(\"This is an error message.\")"
      ],
      "metadata": {
        "colab": {
          "base_uri": "https://localhost:8080/"
        },
        "id": "zzh9k4RPR12H",
        "outputId": "8da4ce0e-efdf-43eb-86bf-daa493a984bb"
      },
      "id": "zzh9k4RPR12H",
      "execution_count": 16,
      "outputs": [
        {
          "output_type": "stream",
          "name": "stderr",
          "text": [
            "WARNING:root:This is a warning message.\n",
            "ERROR:root:This is an error message.\n"
          ]
        }
      ]
    },
    {
      "cell_type": "markdown",
      "source": [
        "#8. Write a program to handle a file opening error using exception handling."
      ],
      "metadata": {
        "id": "_t5KrbtYSNaQ"
      },
      "id": "_t5KrbtYSNaQ"
    },
    {
      "cell_type": "code",
      "source": [
        "try:\n",
        "    with open('nonexistent_file.txt', 'r') as file:\n",
        "        content = file.read()\n",
        "except FileNotFoundError:\n",
        "    print(\"Error: Unable to open the file.\")"
      ],
      "metadata": {
        "colab": {
          "base_uri": "https://localhost:8080/"
        },
        "id": "3cWoBed5SFwe",
        "outputId": "ee538414-2463-4f2c-ea8a-32f19984768c"
      },
      "id": "3cWoBed5SFwe",
      "execution_count": 18,
      "outputs": [
        {
          "output_type": "stream",
          "name": "stdout",
          "text": [
            "Error: Unable to open the file.\n"
          ]
        }
      ]
    },
    {
      "cell_type": "markdown",
      "source": [
        "#9. How can you read a file line by line and store its content in a list in Python?"
      ],
      "metadata": {
        "id": "XSRxEUHvSU-f"
      },
      "id": "XSRxEUHvSU-f"
    },
    {
      "cell_type": "code",
      "source": [
        "with open('example.txt', 'r') as file:\n",
        "    lines = [line.strip() for line in file]  # Using list comprehension\n",
        "print(lines)"
      ],
      "metadata": {
        "colab": {
          "base_uri": "https://localhost:8080/"
        },
        "id": "g5W-idn4SLvo",
        "outputId": "f65d874d-f72a-4539-ca5b-b53cd170ec33"
      },
      "id": "g5W-idn4SLvo",
      "execution_count": 19,
      "outputs": [
        {
          "output_type": "stream",
          "name": "stdout",
          "text": [
            "['Tennis is my fav sport']\n"
          ]
        }
      ]
    },
    {
      "cell_type": "markdown",
      "source": [
        "#10. How can you append data to an existing file in Python?"
      ],
      "metadata": {
        "id": "jVsmPUPJSjIt"
      },
      "id": "jVsmPUPJSjIt"
    },
    {
      "cell_type": "code",
      "source": [
        "with open('example.txt', 'a') as file:\n",
        "    file.write('\\nNadal is my fav player.')"
      ],
      "metadata": {
        "id": "hGsA-HsgSZHY"
      },
      "id": "hGsA-HsgSZHY",
      "execution_count": 22,
      "outputs": []
    },
    {
      "cell_type": "markdown",
      "source": [
        "#11. Write a Python program that uses a try-except block to handle an error when attempting to access a dictionary key that doesn't exist."
      ],
      "metadata": {
        "id": "OajXWSEgS6JI"
      },
      "id": "OajXWSEgS6JI"
    },
    {
      "cell_type": "code",
      "source": [
        "data = {'name': 'John'}\n",
        "\n",
        "try:\n",
        "    value = data['age']\n",
        "except KeyError:\n",
        "    print(\"Error: Key does not exist in the dictionary.\")"
      ],
      "metadata": {
        "colab": {
          "base_uri": "https://localhost:8080/"
        },
        "id": "2N9eHoh5Sllm",
        "outputId": "9c44c85a-499b-47d1-adea-913640bf2afc"
      },
      "id": "2N9eHoh5Sllm",
      "execution_count": 23,
      "outputs": [
        {
          "output_type": "stream",
          "name": "stdout",
          "text": [
            "Error: Key does not exist in the dictionary.\n"
          ]
        }
      ]
    },
    {
      "cell_type": "markdown",
      "source": [
        "#12. Write a program that demonstrates using multiple except blocks to handle different types of exceptions."
      ],
      "metadata": {
        "id": "J5Amb9YNTDed"
      },
      "id": "J5Amb9YNTDed"
    },
    {
      "cell_type": "code",
      "source": [
        "try:\n",
        "    value = 10 / 0\n",
        "    data = {'name': 'John'}\n",
        "    print(data['age'])\n",
        "except ZeroDivisionError:\n",
        "    print(\"Error: Division by zero.\")\n",
        "except KeyError:\n",
        "    print(\"Error: Key not found in the dictionary.\")"
      ],
      "metadata": {
        "colab": {
          "base_uri": "https://localhost:8080/"
        },
        "id": "1zh7IYgyS_DE",
        "outputId": "5287f3c2-a38c-429b-ba71-81d96138fce8"
      },
      "id": "1zh7IYgyS_DE",
      "execution_count": 25,
      "outputs": [
        {
          "output_type": "stream",
          "name": "stdout",
          "text": [
            "Error: Division by zero.\n"
          ]
        }
      ]
    },
    {
      "cell_type": "markdown",
      "source": [
        "#13. How would you check if a file exists before attempting to read it in Python?"
      ],
      "metadata": {
        "id": "pcMWfMZ6THse"
      },
      "id": "pcMWfMZ6THse"
    },
    {
      "cell_type": "code",
      "source": [
        "import os\n",
        "\n",
        "if os.path.exists('example.txt'):\n",
        "    with open('example.txt', 'r') as file:\n",
        "        print(file.read())\n",
        "else:\n",
        "    print(\"File does not exist.\")"
      ],
      "metadata": {
        "colab": {
          "base_uri": "https://localhost:8080/"
        },
        "id": "JeERUue8TF-w",
        "outputId": "8d57d2e8-91d7-48cb-94ca-1cf0ffbeef2b"
      },
      "id": "JeERUue8TF-w",
      "execution_count": 26,
      "outputs": [
        {
          "output_type": "stream",
          "name": "stdout",
          "text": [
            "Tennis is my fav sport\n",
            "This is an appended line.\n",
            "Nadal is my fav player.\n"
          ]
        }
      ]
    },
    {
      "cell_type": "markdown",
      "source": [
        "#14. Write a program that uses the logging module to log both informational and error messages."
      ],
      "metadata": {
        "id": "qGYUT1W0TXQU"
      },
      "id": "qGYUT1W0TXQU"
    },
    {
      "cell_type": "code",
      "source": [
        "import logging\n",
        "\n",
        "logging.basicConfig(filename='app.log', level=logging.DEBUG)\n",
        "\n",
        "logging.info(\"The program started successfully.\")\n",
        "try:\n",
        "    result = 10 / 0\n",
        "except ZeroDivisionError:\n",
        "    logging.error(\"Division by zero error occurred.\")"
      ],
      "metadata": {
        "colab": {
          "base_uri": "https://localhost:8080/"
        },
        "id": "da6Qn2AgTMJb",
        "outputId": "bbc8e6b6-223e-4e12-f6ed-8344ed49a4d3"
      },
      "id": "da6Qn2AgTMJb",
      "execution_count": 28,
      "outputs": [
        {
          "output_type": "stream",
          "name": "stderr",
          "text": [
            "ERROR:root:Division by zero error occurred.\n"
          ]
        }
      ]
    },
    {
      "cell_type": "markdown",
      "source": [
        "#15. Write a Python program that prints the content of a file and handles the case when the file is empty."
      ],
      "metadata": {
        "id": "nAubeyT0Te-U"
      },
      "id": "nAubeyT0Te-U"
    },
    {
      "cell_type": "code",
      "source": [
        "with open('example.txt', 'r') as file:\n",
        "    content = file.read()\n",
        "    if content.strip():\n",
        "        print(content)\n",
        "    else:\n",
        "        print(\"The file is empty.\")"
      ],
      "metadata": {
        "colab": {
          "base_uri": "https://localhost:8080/"
        },
        "id": "f1qZeDFZTaWn",
        "outputId": "d712d5da-14dc-44cd-a6c4-3d71045ea9e8"
      },
      "id": "f1qZeDFZTaWn",
      "execution_count": 29,
      "outputs": [
        {
          "output_type": "stream",
          "name": "stdout",
          "text": [
            "Tennis is my fav sport\n",
            "This is an appended line.\n",
            "Nadal is my fav player.\n"
          ]
        }
      ]
    },
    {
      "cell_type": "markdown",
      "source": [
        "#17. Write a Python program to create and write a list of numbers to a file, one number per line."
      ],
      "metadata": {
        "id": "PSpMQfnXT78O"
      },
      "id": "PSpMQfnXT78O"
    },
    {
      "cell_type": "code",
      "source": [
        "numbers = [10, 20, 30, 40, 50]\n",
        "\n",
        "with open('numbers.txt', 'w') as file:\n",
        "    for number in numbers:\n",
        "        file.write(f\"{number}\\n\")"
      ],
      "metadata": {
        "id": "65IETZsyTuPJ"
      },
      "id": "65IETZsyTuPJ",
      "execution_count": 34,
      "outputs": []
    },
    {
      "cell_type": "markdown",
      "source": [
        "#18. How would you implement a basic logging setup that logs to a file with rotation after 1MB?"
      ],
      "metadata": {
        "id": "Vrj_IW1dUJE9"
      },
      "id": "Vrj_IW1dUJE9"
    },
    {
      "cell_type": "code",
      "source": [
        "import logging\n",
        "from logging.handlers import RotatingFileHandler\n",
        "\n",
        "# Configure rotating file handler\n",
        "handler = RotatingFileHandler('app.log', maxBytes=1024 * 1024, backupCount=3)\n",
        "logging.basicConfig(handlers=[handler], level=logging.DEBUG)\n",
        "\n",
        "logging.info(\"This is an informational message.\")"
      ],
      "metadata": {
        "id": "cyk5u8RXT-3M"
      },
      "id": "cyk5u8RXT-3M",
      "execution_count": 35,
      "outputs": []
    },
    {
      "cell_type": "markdown",
      "source": [
        "#19. Write a program that handles both IndexError and KeyError using a try-except block."
      ],
      "metadata": {
        "id": "eVNvV2p9VClf"
      },
      "id": "eVNvV2p9VClf"
    },
    {
      "cell_type": "code",
      "source": [
        "try:\n",
        "    data = [1, 2, 3]\n",
        "    print(data[5])  # IndexError\n",
        "    dictionary = {'name': 'John'}\n",
        "    print(dictionary['age'])  # KeyError\n",
        "except IndexError:\n",
        "    print(\"Error: List index out of range.\")\n",
        "except KeyError:\n",
        "    print(\"Error: Key not found in the dictionary.\")"
      ],
      "metadata": {
        "colab": {
          "base_uri": "https://localhost:8080/"
        },
        "id": "hBEoL0CVU8f3",
        "outputId": "aac4f5c4-17c0-48e1-d88f-425d7829d4e1"
      },
      "id": "hBEoL0CVU8f3",
      "execution_count": 36,
      "outputs": [
        {
          "output_type": "stream",
          "name": "stdout",
          "text": [
            "Error: List index out of range.\n"
          ]
        }
      ]
    },
    {
      "cell_type": "markdown",
      "source": [
        "#20. How would you open a file and read its contents using a context manager in Python?"
      ],
      "metadata": {
        "id": "JNys4-M5VSIz"
      },
      "id": "JNys4-M5VSIz"
    },
    {
      "cell_type": "code",
      "source": [
        "with open('example.txt', 'r') as file:\n",
        "    content = file.read()\n",
        "    print(content)"
      ],
      "metadata": {
        "colab": {
          "base_uri": "https://localhost:8080/"
        },
        "id": "cJpA0Lb6VGOU",
        "outputId": "9be19f5f-bd94-4924-df44-04118b02c454"
      },
      "id": "cJpA0Lb6VGOU",
      "execution_count": 37,
      "outputs": [
        {
          "output_type": "stream",
          "name": "stdout",
          "text": [
            "Tennis is my fav sport\n",
            "This is an appended line.\n",
            "Nadal is my fav player.\n"
          ]
        }
      ]
    },
    {
      "cell_type": "markdown",
      "source": [
        "#21. Write a Python program that reads a file and prints the number of occurrences of a specific word."
      ],
      "metadata": {
        "id": "sGGevZAvVZcR"
      },
      "id": "sGGevZAvVZcR"
    },
    {
      "cell_type": "code",
      "source": [
        "word_to_count = 'tennis'\n",
        "\n",
        "with open('example.txt', 'r') as file:\n",
        "    content = file.read()\n",
        "    count = content.lower().count(word_to_count.lower())\n",
        "    print(f\"The word '{word_to_count}' appears {count} times.\")"
      ],
      "metadata": {
        "colab": {
          "base_uri": "https://localhost:8080/"
        },
        "id": "cvuQxUzvVUad",
        "outputId": "c98c615c-74e5-4149-a7d2-a5a2a675368e"
      },
      "id": "cvuQxUzvVUad",
      "execution_count": 40,
      "outputs": [
        {
          "output_type": "stream",
          "name": "stdout",
          "text": [
            "The word 'tennis' appears 1 times.\n"
          ]
        }
      ]
    },
    {
      "cell_type": "markdown",
      "source": [
        "#22. How can you check if a file is empty before attempting to read its contents?"
      ],
      "metadata": {
        "id": "yXjK0yBUVk5Z"
      },
      "id": "yXjK0yBUVk5Z"
    },
    {
      "cell_type": "code",
      "source": [
        "import os\n",
        "\n",
        "if os.path.exists('example.txt') and os.path.getsize('example.txt') > 0:\n",
        "    with open('example.txt', 'r') as file:\n",
        "        print(file.read())\n",
        "else:\n",
        "    print(\"The file is empty or does not exist.\")"
      ],
      "metadata": {
        "colab": {
          "base_uri": "https://localhost:8080/"
        },
        "id": "bq5ShCSJVbtx",
        "outputId": "a2456ba5-f7d4-4d9a-fe6f-62f994dc76ba"
      },
      "id": "bq5ShCSJVbtx",
      "execution_count": 41,
      "outputs": [
        {
          "output_type": "stream",
          "name": "stdout",
          "text": [
            "Tennis is my fav sport\n",
            "This is an appended line.\n",
            "Nadal is my fav player.\n"
          ]
        }
      ]
    },
    {
      "cell_type": "markdown",
      "source": [
        "#23. Write a Python program that writes to a log file when an error occurs during file handling."
      ],
      "metadata": {
        "id": "ZJysFZRYVxiJ"
      },
      "id": "ZJysFZRYVxiJ"
    },
    {
      "cell_type": "code",
      "source": [
        "import logging\n",
        "\n",
        "logging.basicConfig(filename='file_errors.log', level=logging.ERROR)\n",
        "\n",
        "try:\n",
        "    with open('nonexistent_file.txt', 'r') as file:\n",
        "        content = file.read()\n",
        "except FileNotFoundError:\n",
        "    logging.error(\"File not found error occurred.\")"
      ],
      "metadata": {
        "colab": {
          "base_uri": "https://localhost:8080/"
        },
        "id": "CYMn0CBGVtci",
        "outputId": "74361ad4-1aeb-493c-b6a3-e122f233c794"
      },
      "id": "CYMn0CBGVtci",
      "execution_count": 43,
      "outputs": [
        {
          "output_type": "stream",
          "name": "stderr",
          "text": [
            "ERROR:root:File not found error occurred.\n"
          ]
        }
      ]
    },
    {
      "cell_type": "code",
      "source": [],
      "metadata": {
        "id": "yflmxd9fV0It"
      },
      "id": "yflmxd9fV0It",
      "execution_count": null,
      "outputs": []
    }
  ],
  "metadata": {
    "colab": {
      "provenance": []
    },
    "language_info": {
      "name": "python"
    },
    "kernelspec": {
      "name": "python3",
      "display_name": "Python 3"
    }
  },
  "nbformat": 4,
  "nbformat_minor": 5
}